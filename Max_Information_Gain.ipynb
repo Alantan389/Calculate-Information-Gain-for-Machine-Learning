{
 "cells": [
  {
   "cell_type": "code",
   "execution_count": 1,
   "metadata": {},
   "outputs": [],
   "source": [
    "### Which of the following splitting criteria provides \n",
    "### the most information gain for \n",
    "###discriminating Mobugs from Lobugs?\n",
    "\n",
    "## colorGreen? colorBlue? colorBrown? length<17? length<20 ?"
   ]
  },
  {
   "cell_type": "code",
   "execution_count": 7,
   "metadata": {},
   "outputs": [],
   "source": [
    "import pandas as pd\n",
    "import math"
   ]
  },
  {
   "cell_type": "code",
   "execution_count": 4,
   "metadata": {},
   "outputs": [],
   "source": [
    "df2=pd.read_csv('/Users/balance/Desktop/LOG2 ENTROPY-PYTHON/ml-bugs.csv')"
   ]
  },
  {
   "cell_type": "code",
   "execution_count": 12,
   "metadata": {},
   "outputs": [
    {
     "data": {
      "text/html": [
       "<div>\n",
       "<style scoped>\n",
       "    .dataframe tbody tr th:only-of-type {\n",
       "        vertical-align: middle;\n",
       "    }\n",
       "\n",
       "    .dataframe tbody tr th {\n",
       "        vertical-align: top;\n",
       "    }\n",
       "\n",
       "    .dataframe thead th {\n",
       "        text-align: right;\n",
       "    }\n",
       "</style>\n",
       "<table border=\"1\" class=\"dataframe\">\n",
       "  <thead>\n",
       "    <tr style=\"text-align: right;\">\n",
       "      <th></th>\n",
       "      <th>Species</th>\n",
       "      <th>Color</th>\n",
       "      <th>Length</th>\n",
       "    </tr>\n",
       "  </thead>\n",
       "  <tbody>\n",
       "    <tr>\n",
       "      <th>0</th>\n",
       "      <td>Mobug</td>\n",
       "      <td>Brown</td>\n",
       "      <td>11.6</td>\n",
       "    </tr>\n",
       "  </tbody>\n",
       "</table>\n",
       "</div>"
      ],
      "text/plain": [
       "  Species  Color  Length\n",
       "0   Mobug  Brown    11.6"
      ]
     },
     "execution_count": 12,
     "metadata": {},
     "output_type": "execute_result"
    }
   ],
   "source": [
    "df2.head()[:1]"
   ]
  },
  {
   "cell_type": "code",
   "execution_count": null,
   "metadata": {},
   "outputs": [],
   "source": []
  },
  {
   "cell_type": "code",
   "execution_count": 9,
   "metadata": {},
   "outputs": [],
   "source": [
    "## name change/ data cleaning\n",
    "df2=df2.rename(columns={'Length (mm)':'Length'})"
   ]
  },
  {
   "cell_type": "code",
   "execution_count": 15,
   "metadata": {},
   "outputs": [
    {
     "data": {
      "text/html": [
       "<div>\n",
       "<style scoped>\n",
       "    .dataframe tbody tr th:only-of-type {\n",
       "        vertical-align: middle;\n",
       "    }\n",
       "\n",
       "    .dataframe tbody tr th {\n",
       "        vertical-align: top;\n",
       "    }\n",
       "\n",
       "    .dataframe thead th {\n",
       "        text-align: right;\n",
       "    }\n",
       "</style>\n",
       "<table border=\"1\" class=\"dataframe\">\n",
       "  <thead>\n",
       "    <tr style=\"text-align: right;\">\n",
       "      <th></th>\n",
       "      <th>Species</th>\n",
       "      <th>Color</th>\n",
       "      <th>Length</th>\n",
       "    </tr>\n",
       "  </thead>\n",
       "  <tbody>\n",
       "    <tr>\n",
       "      <th>0</th>\n",
       "      <td>Mobug</td>\n",
       "      <td>Brown</td>\n",
       "      <td>11.6</td>\n",
       "    </tr>\n",
       "    <tr>\n",
       "      <th>1</th>\n",
       "      <td>Mobug</td>\n",
       "      <td>Blue</td>\n",
       "      <td>16.3</td>\n",
       "    </tr>\n",
       "    <tr>\n",
       "      <th>2</th>\n",
       "      <td>Lobug</td>\n",
       "      <td>Blue</td>\n",
       "      <td>15.1</td>\n",
       "    </tr>\n",
       "    <tr>\n",
       "      <th>3</th>\n",
       "      <td>Lobug</td>\n",
       "      <td>Green</td>\n",
       "      <td>23.7</td>\n",
       "    </tr>\n",
       "    <tr>\n",
       "      <th>4</th>\n",
       "      <td>Lobug</td>\n",
       "      <td>Blue</td>\n",
       "      <td>18.4</td>\n",
       "    </tr>\n",
       "    <tr>\n",
       "      <th>5</th>\n",
       "      <td>Lobug</td>\n",
       "      <td>Brown</td>\n",
       "      <td>17.1</td>\n",
       "    </tr>\n",
       "    <tr>\n",
       "      <th>6</th>\n",
       "      <td>Mobug</td>\n",
       "      <td>Brown</td>\n",
       "      <td>15.7</td>\n",
       "    </tr>\n",
       "    <tr>\n",
       "      <th>7</th>\n",
       "      <td>Lobug</td>\n",
       "      <td>Green</td>\n",
       "      <td>18.6</td>\n",
       "    </tr>\n",
       "    <tr>\n",
       "      <th>8</th>\n",
       "      <td>Lobug</td>\n",
       "      <td>Blue</td>\n",
       "      <td>22.9</td>\n",
       "    </tr>\n",
       "    <tr>\n",
       "      <th>9</th>\n",
       "      <td>Lobug</td>\n",
       "      <td>Blue</td>\n",
       "      <td>21.0</td>\n",
       "    </tr>\n",
       "    <tr>\n",
       "      <th>10</th>\n",
       "      <td>Lobug</td>\n",
       "      <td>Blue</td>\n",
       "      <td>20.5</td>\n",
       "    </tr>\n",
       "    <tr>\n",
       "      <th>11</th>\n",
       "      <td>Mobug</td>\n",
       "      <td>Green</td>\n",
       "      <td>21.2</td>\n",
       "    </tr>\n",
       "    <tr>\n",
       "      <th>12</th>\n",
       "      <td>Mobug</td>\n",
       "      <td>Brown</td>\n",
       "      <td>13.8</td>\n",
       "    </tr>\n",
       "    <tr>\n",
       "      <th>13</th>\n",
       "      <td>Lobug</td>\n",
       "      <td>Blue</td>\n",
       "      <td>14.5</td>\n",
       "    </tr>\n",
       "    <tr>\n",
       "      <th>14</th>\n",
       "      <td>Lobug</td>\n",
       "      <td>Green</td>\n",
       "      <td>24.8</td>\n",
       "    </tr>\n",
       "    <tr>\n",
       "      <th>15</th>\n",
       "      <td>Mobug</td>\n",
       "      <td>Brown</td>\n",
       "      <td>18.2</td>\n",
       "    </tr>\n",
       "    <tr>\n",
       "      <th>16</th>\n",
       "      <td>Lobug</td>\n",
       "      <td>Green</td>\n",
       "      <td>17.9</td>\n",
       "    </tr>\n",
       "    <tr>\n",
       "      <th>17</th>\n",
       "      <td>Lobug</td>\n",
       "      <td>Green</td>\n",
       "      <td>22.7</td>\n",
       "    </tr>\n",
       "    <tr>\n",
       "      <th>18</th>\n",
       "      <td>Mobug</td>\n",
       "      <td>Green</td>\n",
       "      <td>19.9</td>\n",
       "    </tr>\n",
       "    <tr>\n",
       "      <th>19</th>\n",
       "      <td>Mobug</td>\n",
       "      <td>Blue</td>\n",
       "      <td>14.6</td>\n",
       "    </tr>\n",
       "    <tr>\n",
       "      <th>20</th>\n",
       "      <td>Mobug</td>\n",
       "      <td>Blue</td>\n",
       "      <td>19.2</td>\n",
       "    </tr>\n",
       "    <tr>\n",
       "      <th>21</th>\n",
       "      <td>Lobug</td>\n",
       "      <td>Brown</td>\n",
       "      <td>14.1</td>\n",
       "    </tr>\n",
       "    <tr>\n",
       "      <th>22</th>\n",
       "      <td>Lobug</td>\n",
       "      <td>Green</td>\n",
       "      <td>18.8</td>\n",
       "    </tr>\n",
       "    <tr>\n",
       "      <th>23</th>\n",
       "      <td>Mobug</td>\n",
       "      <td>Blue</td>\n",
       "      <td>13.1</td>\n",
       "    </tr>\n",
       "  </tbody>\n",
       "</table>\n",
       "</div>"
      ],
      "text/plain": [
       "   Species  Color  Length\n",
       "0    Mobug  Brown    11.6\n",
       "1    Mobug   Blue    16.3\n",
       "2    Lobug   Blue    15.1\n",
       "3    Lobug  Green    23.7\n",
       "4    Lobug   Blue    18.4\n",
       "5    Lobug  Brown    17.1\n",
       "6    Mobug  Brown    15.7\n",
       "7    Lobug  Green    18.6\n",
       "8    Lobug   Blue    22.9\n",
       "9    Lobug   Blue    21.0\n",
       "10   Lobug   Blue    20.5\n",
       "11   Mobug  Green    21.2\n",
       "12   Mobug  Brown    13.8\n",
       "13   Lobug   Blue    14.5\n",
       "14   Lobug  Green    24.8\n",
       "15   Mobug  Brown    18.2\n",
       "16   Lobug  Green    17.9\n",
       "17   Lobug  Green    22.7\n",
       "18   Mobug  Green    19.9\n",
       "19   Mobug   Blue    14.6\n",
       "20   Mobug   Blue    19.2\n",
       "21   Lobug  Brown    14.1\n",
       "22   Lobug  Green    18.8\n",
       "23   Mobug   Blue    13.1"
      ]
     },
     "execution_count": 15,
     "metadata": {},
     "output_type": "execute_result"
    }
   ],
   "source": [
    "df2"
   ]
  },
  {
   "cell_type": "code",
   "execution_count": 13,
   "metadata": {},
   "outputs": [
    {
     "data": {
      "text/plain": [
       "Species\n",
       "Lobug    14\n",
       "Mobug    10\n",
       "dtype: int64"
      ]
     },
     "execution_count": 13,
     "metadata": {},
     "output_type": "execute_result"
    }
   ],
   "source": [
    "df2.value_counts('Species')"
   ]
  },
  {
   "cell_type": "code",
   "execution_count": 133,
   "metadata": {},
   "outputs": [
    {
     "name": "stdout",
     "output_type": "stream",
     "text": [
      "0.9798687566511528\n"
     ]
    }
   ],
   "source": [
    "## Entropy for Species (parent entropy)\n",
    "Mobug=10/24\n",
    "Lobug=14/24\n",
    "\n",
    "parent_entropy=((-Mobug* math.log2(Mobug))+(-Lobug* math.log2(Lobug)))\n",
    "print(parent_entropy)"
   ]
  },
  {
   "cell_type": "code",
   "execution_count": null,
   "metadata": {},
   "outputs": [],
   "source": []
  },
  {
   "cell_type": "code",
   "execution_count": 29,
   "metadata": {},
   "outputs": [
    {
     "data": {
      "text/plain": [
       "Color  Species\n",
       "Blue   Lobug      6\n",
       "       Mobug      4\n",
       "Brown  Lobug      2\n",
       "       Mobug      4\n",
       "Green  Lobug      6\n",
       "       Mobug      2\n",
       "dtype: int64"
      ]
     },
     "execution_count": 29,
     "metadata": {},
     "output_type": "execute_result"
    }
   ],
   "source": [
    "## entropy for species spliting by color (child entropy)\n",
    "df2.value_counts(['Color','Species']).sort_index(inplace=False)"
   ]
  },
  {
   "cell_type": "code",
   "execution_count": null,
   "metadata": {},
   "outputs": [],
   "source": []
  },
  {
   "cell_type": "code",
   "execution_count": 126,
   "metadata": {},
   "outputs": [],
   "source": [
    "### blue information gain discriminating mobugs from lobugs\n",
    "blue_L=6/10\n",
    "blue_M=4/10\n",
    "n_blue_L=(2+6)/(6+8)\n",
    "n_blue_M=(4+2)/(6+8)\n",
    "\n",
    "\n",
    "brown_L=2/6\n",
    "brown_M=4/6\n",
    "n_brown_L=(6+6)/(10+8)\n",
    "n_brown_M=(4+2)/(10+8)\n",
    "\n",
    "green_L=6/8\n",
    "green_M=2/8\n",
    "n_green_L=(6+2)/(10+6)\n",
    "n_green_M=(4+4)/(10+6)"
   ]
  },
  {
   "cell_type": "code",
   "execution_count": 127,
   "metadata": {},
   "outputs": [],
   "source": [
    "blue= ((-blue_L* math.log2(blue_L))+(-blue_M* math.log2(blue_M)))\n",
    "n_blue=((-n_blue_L* math.log2(n_blue_L))+(-n_blue_M* math.log2(n_blue_M)))\n",
    "\n",
    "brown= ((-brown_L* math.log2(brown_L))+(-brown_M* math.log2(brown_M)))\n",
    "n_brown= ((-n_brown_L* math.log2(n_brown_L))+(-n_brown_M* math.log2(n_brown_M)))\n",
    "\n",
    "green= ((-green_L* math.log2(green_L))+(-green_M* math.log2(green_M)))\n",
    "n_green= ((-n_green_L* math.log2(n_green_L))+(-n_green_M* math.log2(n_green_M)))\n"
   ]
  },
  {
   "cell_type": "code",
   "execution_count": 128,
   "metadata": {},
   "outputs": [],
   "source": [
    "pro_blue=(6+4)/(6+4+2+4+6+2)\n",
    "n_pro_blue=(2+4+6+2)/(6+4+2+4+6+2)\n",
    "\n",
    "pro_brown=(2+4)/(6+4+2+4+6+2)\n",
    "n_pro_brown=(6+4+6+2)/(6+4+2+4+6+2)\n",
    "\n",
    "pro_green=(6+2)/(6+4+2+4+6+2)\n",
    "n_pro_green=(6+4+2+4)/(6+4+2+4+6+2)"
   ]
  },
  {
   "cell_type": "code",
   "execution_count": null,
   "metadata": {},
   "outputs": [],
   "source": []
  },
  {
   "cell_type": "code",
   "execution_count": 122,
   "metadata": {},
   "outputs": [],
   "source": [
    "entropy_species_blue=((blue*pro_blue)+(n_blue*n_pro_blue))"
   ]
  },
  {
   "cell_type": "code",
   "execution_count": 131,
   "metadata": {},
   "outputs": [],
   "source": [
    "entropy_species_brown=((brown*pro_brown)+(n_brown*n_pro_brown))"
   ]
  },
  {
   "cell_type": "code",
   "execution_count": 132,
   "metadata": {},
   "outputs": [],
   "source": [
    "entropy_species_green=((green*pro_green)+(n_green*n_pro_green))"
   ]
  },
  {
   "cell_type": "code",
   "execution_count": null,
   "metadata": {},
   "outputs": [],
   "source": []
  },
  {
   "cell_type": "code",
   "execution_count": null,
   "metadata": {},
   "outputs": [],
   "source": []
  },
  {
   "cell_type": "code",
   "execution_count": 138,
   "metadata": {},
   "outputs": [
    {
     "name": "stdout",
     "output_type": "stream",
     "text": [
      "blue is: 0.000589596275060833\n",
      "brown is: 0.06157292259666325\n",
      "green is: 0.042776048498108565\n"
     ]
    }
   ],
   "source": [
    "print(\"blue is:\",parent_entropy-entropy_species_blue)\n",
    "print(\"brown is:\",parent_entropy-entropy_species_brown)\n",
    "print(\"green is:\",parent_entropy-entropy_species_green)"
   ]
  },
  {
   "cell_type": "code",
   "execution_count": null,
   "metadata": {},
   "outputs": [],
   "source": []
  },
  {
   "cell_type": "code",
   "execution_count": null,
   "metadata": {},
   "outputs": [],
   "source": []
  },
  {
   "cell_type": "code",
   "execution_count": 105,
   "metadata": {},
   "outputs": [],
   "source": [
    "### Entropy(Species,<17mm) = Prob(<17mm)*Entropy(3,6) + Prob(>17mm)*Entropy(11,4)\t\n",
    "\n",
    "\n",
    "### Prob(<17mm) = 9/24 = 0.375\n",
    "### Entropy(3,6) = -(3/9) * log2(3/9) + -(6/9)*log2(6/9) = 0.9183\n",
    "### Prob(>17mm)   = 15/24 = 0.63\n",
    "### Entropy(11,4) = -(11/15)*log2(11/15) + -(4/15)*log2(4/15) = 0.8366\n",
    "### Entropy(Species, <17mm) = 0.375 * 0.9183 + 0.63 * 0.8366= 0.8673\n",
    "### Information Gain = Entropy(Species)- Entropy(Species,<17mm)\n",
    "###  = 0.9798-0.8673 = 0.1126\n",
    "\n",
    "\n",
    "## -------------------------------------------------------------\n",
    "# solution\n",
    "\n",
    "## def two_group_ent(first, tot):                        \n",
    "#    return -(first/tot*np.log2(first/tot) +           \n",
    "#             (tot-first)/tot*np.log2((tot-first)/tot))\n",
    "\n",
    "# tot_ent = two_group_ent(10, 24)                       \n",
    "# g17_ent = 15/24 * two_group_ent(11,15) +              \n",
    "#           9/24 * two_group_ent(6,9)                  \n",
    "\n",
    "# answer = tot_ent - g17_ent                            \n"
   ]
  },
  {
   "cell_type": "code",
   "execution_count": 57,
   "metadata": {},
   "outputs": [
    {
     "data": {
      "text/plain": [
       "Mobug    6\n",
       "Lobug    3\n",
       "Name: Species, dtype: int64"
      ]
     },
     "execution_count": 57,
     "metadata": {},
     "output_type": "execute_result"
    }
   ],
   "source": [
    "## entropy for <17 \n",
    "\n",
    "df2.loc[df2['Length']< 17].Species.value_counts()"
   ]
  },
  {
   "cell_type": "code",
   "execution_count": 49,
   "metadata": {},
   "outputs": [
    {
     "data": {
      "text/plain": [
       "Lobug    11\n",
       "Mobug     4\n",
       "Name: Species, dtype: int64"
      ]
     },
     "execution_count": 49,
     "metadata": {},
     "output_type": "execute_result"
    }
   ],
   "source": [
    "df2.loc[df2['Length']> 17].Species.value_counts()"
   ]
  },
  {
   "cell_type": "code",
   "execution_count": 86,
   "metadata": {},
   "outputs": [
    {
     "name": "stdout",
     "output_type": "stream",
     "text": [
      "0.9182958340544896\n"
     ]
    }
   ],
   "source": [
    "entropy3_6=((-(3/9)* math.log2(3/9))+(-(6/9)* math.log2(6/9)))\n",
    "print (entropy3_6)"
   ]
  },
  {
   "cell_type": "code",
   "execution_count": 89,
   "metadata": {},
   "outputs": [
    {
     "name": "stdout",
     "output_type": "stream",
     "text": [
      "0.375\n"
     ]
    }
   ],
   "source": [
    "probability_less17=((3+6)/(3+6+11+4))\n",
    "print(probability_less17)"
   ]
  },
  {
   "cell_type": "code",
   "execution_count": 90,
   "metadata": {},
   "outputs": [
    {
     "name": "stdout",
     "output_type": "stream",
     "text": [
      "0.8366407419411672\n"
     ]
    }
   ],
   "source": [
    "entropy11_4=((-(11/15)* math.log2(11/15))+(-(4/15)* math.log2(4/15)))\n",
    "print (entropy11_4)"
   ]
  },
  {
   "cell_type": "code",
   "execution_count": 171,
   "metadata": {},
   "outputs": [
    {
     "name": "stdout",
     "output_type": "stream",
     "text": [
      "the info gain for <17 is: 0.625\n"
     ]
    }
   ],
   "source": [
    "probability_large17=((11+4)/(3+6+11+4))\n",
    "print(\"the info gain for <17 is:\",probability_large17)"
   ]
  },
  {
   "cell_type": "code",
   "execution_count": null,
   "metadata": {},
   "outputs": [],
   "source": []
  },
  {
   "cell_type": "code",
   "execution_count": 144,
   "metadata": {},
   "outputs": [],
   "source": [
    "entropy_species_less17=((entropy3_6*probability_less17)+(entropy11_4*probability_large17))"
   ]
  },
  {
   "cell_type": "code",
   "execution_count": 146,
   "metadata": {},
   "outputs": [],
   "source": [
    "information_gain17=parent_entropy-entropy_species_less17"
   ]
  },
  {
   "cell_type": "code",
   "execution_count": 147,
   "metadata": {},
   "outputs": [
    {
     "name": "stdout",
     "output_type": "stream",
     "text": [
      "0.11260735516748976\n"
     ]
    }
   ],
   "source": [
    "print(information_gain17)"
   ]
  },
  {
   "cell_type": "code",
   "execution_count": null,
   "metadata": {},
   "outputs": [],
   "source": [
    "## 0.11260735516748976"
   ]
  },
  {
   "cell_type": "code",
   "execution_count": null,
   "metadata": {},
   "outputs": [],
   "source": []
  },
  {
   "cell_type": "code",
   "execution_count": null,
   "metadata": {},
   "outputs": [],
   "source": []
  },
  {
   "cell_type": "code",
   "execution_count": 40,
   "metadata": {},
   "outputs": [
    {
     "data": {
      "text/plain": [
       "Mobug    9\n",
       "Lobug    8\n",
       "Name: Species, dtype: int64"
      ]
     },
     "execution_count": 40,
     "metadata": {},
     "output_type": "execute_result"
    }
   ],
   "source": [
    "df2.loc[df2['Length']< 20].Species.value_counts()"
   ]
  },
  {
   "cell_type": "code",
   "execution_count": 139,
   "metadata": {},
   "outputs": [
    {
     "data": {
      "text/plain": [
       "Lobug    6\n",
       "Mobug    1\n",
       "Name: Species, dtype: int64"
      ]
     },
     "execution_count": 139,
     "metadata": {},
     "output_type": "execute_result"
    }
   ],
   "source": [
    "df2.loc[df2['Length']> 20].Species.value_counts()"
   ]
  },
  {
   "cell_type": "code",
   "execution_count": null,
   "metadata": {},
   "outputs": [],
   "source": []
  },
  {
   "cell_type": "code",
   "execution_count": 156,
   "metadata": {},
   "outputs": [
    {
     "name": "stdout",
     "output_type": "stream",
     "text": [
      "0.9975025463691152\n"
     ]
    }
   ],
   "source": [
    "entropy9_8=((-(9/17)* math.log2(9/17))+(-(8/17)* math.log2(8/17)))\n",
    "print (entropy9_8)"
   ]
  },
  {
   "cell_type": "code",
   "execution_count": 157,
   "metadata": {},
   "outputs": [
    {
     "name": "stdout",
     "output_type": "stream",
     "text": [
      "0.7083333333333334\n"
     ]
    }
   ],
   "source": [
    "probability_less20=((9+8)/(9+8+6+1))\n",
    "print(probability_less20)"
   ]
  },
  {
   "cell_type": "code",
   "execution_count": 164,
   "metadata": {},
   "outputs": [
    {
     "name": "stdout",
     "output_type": "stream",
     "text": [
      "0.5916727785823275\n"
     ]
    }
   ],
   "source": [
    "entropy6_1=((-(6/7)* math.log2(6/7))+(-(1/7)* math.log2(1/7)))\n",
    "print (entropy6_1)"
   ]
  },
  {
   "cell_type": "code",
   "execution_count": 165,
   "metadata": {},
   "outputs": [
    {
     "name": "stdout",
     "output_type": "stream",
     "text": [
      "0.2916666666666667\n"
     ]
    }
   ],
   "source": [
    "probability_large20=((6+1)/(9+8+6+1))\n",
    "print(probability_large20)"
   ]
  },
  {
   "cell_type": "code",
   "execution_count": 166,
   "metadata": {},
   "outputs": [],
   "source": [
    "entropy_species_less20=((entropy9_8*probability_less20)+(entropy6_1*probability_large20))"
   ]
  },
  {
   "cell_type": "code",
   "execution_count": 172,
   "metadata": {},
   "outputs": [
    {
     "name": "stdout",
     "output_type": "stream",
     "text": [
      "the info gain for <17 is: 0.10073322588651734\n"
     ]
    }
   ],
   "source": [
    "information_gain20=parent_entropy-entropy_species_less20\n",
    "print(\"the info gain for <17 is:\",information_gain20)"
   ]
  },
  {
   "cell_type": "code",
   "execution_count": null,
   "metadata": {},
   "outputs": [],
   "source": [
    "##  0.10073322588651734"
   ]
  }
 ],
 "metadata": {
  "kernelspec": {
   "display_name": "Python 3",
   "language": "python",
   "name": "python3"
  },
  "language_info": {
   "codemirror_mode": {
    "name": "ipython",
    "version": 3
   },
   "file_extension": ".py",
   "mimetype": "text/x-python",
   "name": "python",
   "nbconvert_exporter": "python",
   "pygments_lexer": "ipython3",
   "version": "3.7.9"
  }
 },
 "nbformat": 4,
 "nbformat_minor": 4
}
